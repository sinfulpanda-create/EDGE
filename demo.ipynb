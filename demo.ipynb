{
  "cells": [
    {
      "cell_type": "markdown",
      "id": "fd4a7881-12b8-4e6c-8c93-abf55abbfbd6",
      "metadata": {
        "id": "fd4a7881-12b8-4e6c-8c93-abf55abbfbd6"
      },
      "source": [
        "![EDGE cover image](https://github.com/sinfulpanda-create/EDGE/blob/main/media/edge_cover.png?raw=1)\n",
        "# EDGE Demo\n",
        "## 1. Download Custom Music\n",
        "\n",
        "First, download the music you want to process. We provide a list of popular songs from the past 50 years as a default demo."
      ]
    },
    {
      "cell_type": "code",
      "execution_count": 1,
      "id": "bf2f38b9-516e-4bfd-81f6-bbb671ea0751",
      "metadata": {
        "id": "bf2f38b9-516e-4bfd-81f6-bbb671ea0751"
      },
      "outputs": [],
      "source": [
        "# Output Directories\n",
        "output_folder = \"custom_music\"\n",
        "motion_folder = \"SMPL-to-FBX/motions\"\n",
        "fbx_folder = \"SMPL-to-FBX/fbx_out\""
      ]
    },
    {
      "cell_type": "code",
      "source": [
        "!pwd"
      ],
      "metadata": {
        "colab": {
          "base_uri": "https://localhost:8080/"
        },
        "id": "6gKqnEWULegK",
        "outputId": "19287cee-049b-4aef-c360-268b1c0970a2"
      },
      "id": "6gKqnEWULegK",
      "execution_count": 2,
      "outputs": [
        {
          "output_type": "stream",
          "name": "stdout",
          "text": [
            "/content\n"
          ]
        }
      ]
    },
    {
      "cell_type": "code",
      "execution_count": 3,
      "id": "39f4753c-1b84-4821-acec-96d6985f3bb4",
      "metadata": {
        "id": "39f4753c-1b84-4821-acec-96d6985f3bb4"
      },
      "outputs": [],
      "source": [
        "urllist = [\n",
        "    \"https://www.youtube.com/watch?v=2RicaUqd9Hg\",\n",
        "    \"https://www.youtube.com/watch?v=-CCgDvUM4TM\",\n",
        "    # \"https://www.youtube.com/watch?v=9KhbM2mqhCQ\",\n",
        "    # \"https://www.youtube.com/watch?v=s3bksUSPB4c\",\n",
        "    # \"https://www.youtube.com/watch?v=ABfQuZqq8wg\",\n",
        "    # \"https://www.youtube.com/watch?v=fNFzfwLM72c\",\n",
        "    # \"https://www.youtube.com/watch?v=9i6bCWIdhBw\",\n",
        "    # \"https://www.youtube.com/watch?v=yURRmWtbTbo\",\n",
        "    # \"https://www.youtube.com/watch?v=god7hAPv8f0\",\n",
        "    # \"https://www.youtube.com/watch?v=1sqE6P3XyiQ\",\n",
        "    # \"https://www.youtube.com/watch?v=Zi_XLOBDo_Y\",\n",
        "    # \"https://www.youtube.com/watch?v=UHXGc2oWyJ4\",\n",
        "    # \"https://www.youtube.com/watch?v=h4bP9tj_0Zk\",\n",
        "    # \"https://www.youtube.com/watch?v=qK5KhQG06xU\",\n",
        "    # \"https://www.youtube.com/watch?v=FDMHZFJnk2s\",\n",
        "    # \"https://www.youtube.com/watch?v=4NJH75q0Syk\",\n",
        "    # \"https://www.youtube.com/watch?v=ggJI9dKBk48\",\n",
        "    # \"https://www.youtube.com/watch?v=LPYw3jXjd74\",\n",
        "    # \"https://www.youtube.com/watch?v=P-sGt5E2epc\",\n",
        "    # \"https://www.youtube.com/watch?v=GxBSyx85Kp8\",\n",
        "    # \"https://www.youtube.com/watch?v=OPf0YbXqDm0\",\n",
        "    # \"https://www.youtube.com/watch?v=c18441Eh_WE\",\n",
        "    # \"https://www.youtube.com/watch?v=uSD4vsh1zDA\",\n",
        "    # \"https://www.youtube.com/watch?v=ViwtNLUqkMY\",\n",
        "    # \"https://www.youtube.com/watch?v=q0KZuZF01FA\",\n",
        "    # \"https://www.youtube.com/watch?v=Vds8ddYXYZY\",\n",
        "    # \"https://www.youtube.com/watch?v=gm3-m2CFVWM\",\n",
        "    # \"https://www.youtube.com/watch?v=BerNfXSuvJ0\",\n",
        "    # \"https://www.youtube.com/watch?v=aFmTvY11vug\",\n",
        "    # \"https://www.youtube.com/watch?v=LOZuxwVk7TU\",\n",
        "    # \"https://www.youtube.com/watch?v=TUVcZfQe-Kw\",\n",
        "    # \"https://www.youtube.com/watch?v=Ab6E2BsuLJ0\",\n",
        "    # \"https://www.youtube.com/watch?v=g7X9X6TlrUo\",\n",
        "    # \"https://www.youtube.com/watch?v=nsXwi67WgOo\",\n",
        "    # \"https://www.youtube.com/watch?v=HCq1OcAEAm0\",\n",
        "]"
      ]
    },
    {
      "cell_type": "code",
      "source": [
        "%cd /content/EDGE\n",
        "!ls"
      ],
      "metadata": {
        "id": "axB5jZ2lWtVe",
        "outputId": "2061f977-01bb-47c0-cd76-1fc6d8826c62",
        "colab": {
          "base_uri": "https://localhost:8080/"
        }
      },
      "id": "axB5jZ2lWtVe",
      "execution_count": 7,
      "outputs": [
        {
          "output_type": "stream",
          "name": "stdout",
          "text": [
            "/content/EDGE\n",
            "args.py  dataset     download_model.sh\teval\t media\tREADME.md    test.py   vis.py\n",
            "data\t demo.ipynb  EDGE.py\t\tLICENSE  model\tSMPL-to-FBX  train.py\n"
          ]
        }
      ]
    },
    {
      "cell_type": "code",
      "source": [
        "!git clone \"https://github.com/sinfulpanda-create/EDGE.git\""
      ],
      "metadata": {
        "id": "LxnonB1bWipb",
        "outputId": "8ee2c9a6-a912-4f6f-e259-891852e268e4",
        "colab": {
          "base_uri": "https://localhost:8080/"
        }
      },
      "id": "LxnonB1bWipb",
      "execution_count": 5,
      "outputs": [
        {
          "output_type": "stream",
          "name": "stdout",
          "text": [
            "Cloning into 'EDGE'...\n",
            "remote: Enumerating objects: 61, done.\u001b[K\n",
            "remote: Counting objects: 100% (39/39), done.\u001b[K\n",
            "remote: Compressing objects: 100% (37/37), done.\u001b[K\n",
            "remote: Total 61 (delta 10), reused 2 (delta 2), pack-reused 22 (from 1)\u001b[K\n",
            "Receiving objects: 100% (61/61), 5.08 MiB | 9.23 MiB/s, done.\n",
            "Resolving deltas: 100% (11/11), done.\n"
          ]
        }
      ]
    },
    {
      "cell_type": "code",
      "source": [
        "# prompt: clone github repo inside drive\n",
        "\n",
        "import os\n",
        "\n",
        "# Mount Google Drive\n",
        "from google.colab import drive\n",
        "drive.mount('/content/drive')\n",
        "\n",
        "# Define the repository URL and the desired local path\n",
        "repo_url = \"https://github.com/sinfulpanda-create/EDGE.git\"  # Replace with your repository URL\n",
        "local_path = \"/content/drive/MyDrive/EDGE\"  # Replace with your desired local path\n",
        "\n",
        "# Create the directory if it doesn't exist\n",
        "if not os.path.exists(local_path):\n",
        "    os.makedirs(local_path)\n",
        "\n",
        "# Clone the repository\n",
        "!git clone {repo_url} {local_path}\n",
        "\n",
        "# Navigate to the cloned repository (optional, but useful)\n",
        "# %cd {local_path}\n",
        "\n",
        "# Now you can access the cloned files. Example:\n",
        "# !ls /content/drive/MyDrive/your_repository_name"
      ],
      "metadata": {
        "id": "1AA3r3SEUs_K",
        "outputId": "322bcbbf-9876-43d8-fec9-77ef6bca1272",
        "colab": {
          "base_uri": "https://localhost:8080/"
        }
      },
      "id": "1AA3r3SEUs_K",
      "execution_count": 1,
      "outputs": [
        {
          "output_type": "stream",
          "name": "stdout",
          "text": [
            "Mounted at /content/drive\n",
            "Cloning into '/content/drive/MyDrive/EDGE'...\n",
            "remote: Enumerating objects: 61, done.\u001b[K\n",
            "remote: Counting objects: 100% (39/39), done.\u001b[K\n",
            "remote: Compressing objects: 100% (37/37), done.\u001b[K\n",
            "remote: Total 61 (delta 10), reused 2 (delta 2), pack-reused 22 (from 1)\u001b[K\n",
            "Receiving objects: 100% (61/61), 5.08 MiB | 10.67 MiB/s, done.\n",
            "fatal: premature end of pack file, 551 bytes missing\n",
            "fatal: fetch-pack: invalid index-pack output\n"
          ]
        }
      ]
    },
    {
      "cell_type": "code",
      "source": [
        "\n",
        "#\n",
        "import sys\n",
        "import torch\n",
        "pyt_version_str=torch.__version__.split(\"+\")[0].replace(\".\", \"\")\n",
        "version_str=\"\".join([\n",
        "    f\"py3{sys.version_info.minor}_cu\",\n",
        "    torch.version.cuda.replace(\".\",\"\"),\n",
        "    f\"_pyt{pyt_version_str}\"\n",
        "])\n",
        "!pip install iopath\n",
        "!pip install --no-index --no-cache-dir pytorch3d -f https://dl.fbaipublicfiles.com/pytorch3d/packaging/wheels/{version_str}/download.html\n",
        "##\n",
        "!pip install yt-dlp\n",
        "for url in urllist:\n",
        "    !yt-dlp --extract-audio --audio-format wav --audio-quality 0 --output \"{output_folder}/%(id)s.%(ext)s\" \"{url}\"\n",
        "\n",
        "###\n",
        "!pip install git+https://github.com/rodrigo-castellon/jukemirlib.git\n",
        "!bash download_model.sh\n",
        "###\n",
        "\n"
      ],
      "metadata": {
        "colab": {
          "base_uri": "https://localhost:8080/",
          "height": 1000
        },
        "id": "kqcuHoRDLOMl",
        "outputId": "6385d8e5-b26e-42ab-8db3-0b54ff5c8a91"
      },
      "id": "kqcuHoRDLOMl",
      "execution_count": 8,
      "outputs": [
        {
          "output_type": "stream",
          "name": "stdout",
          "text": [
            "Collecting iopath\n",
            "  Downloading iopath-0.1.10.tar.gz (42 kB)\n",
            "\u001b[?25l     \u001b[90m━━━━━━━━━━━━━━━━━━━━━━━━━━━━━━━━━━━━━━━━\u001b[0m \u001b[32m0.0/42.2 kB\u001b[0m \u001b[31m?\u001b[0m eta \u001b[36m-:--:--\u001b[0m\r\u001b[2K     \u001b[90m━━━━━━━━━━━━━━━━━━━━━━━━━━━━━━━━━━━━━━━━\u001b[0m \u001b[32m42.2/42.2 kB\u001b[0m \u001b[31m2.6 MB/s\u001b[0m eta \u001b[36m0:00:00\u001b[0m\n",
            "\u001b[?25h  Preparing metadata (setup.py) ... \u001b[?25l\u001b[?25hdone\n",
            "Requirement already satisfied: tqdm in /usr/local/lib/python3.10/dist-packages (from iopath) (4.67.1)\n",
            "Requirement already satisfied: typing_extensions in /usr/local/lib/python3.10/dist-packages (from iopath) (4.12.2)\n",
            "Collecting portalocker (from iopath)\n",
            "  Downloading portalocker-3.1.1-py3-none-any.whl.metadata (8.6 kB)\n",
            "Downloading portalocker-3.1.1-py3-none-any.whl (19 kB)\n",
            "Building wheels for collected packages: iopath\n",
            "  Building wheel for iopath (setup.py) ... \u001b[?25l\u001b[?25hdone\n",
            "  Created wheel for iopath: filename=iopath-0.1.10-py3-none-any.whl size=31528 sha256=dcb2d9499d58554af43ddfcb9c2bd84123818407df6a1802a8955985490105ef\n",
            "  Stored in directory: /root/.cache/pip/wheels/9a/a3/b6/ac0fcd1b4ed5cfeb3db92e6a0e476cfd48ed0df92b91080c1d\n",
            "Successfully built iopath\n",
            "Installing collected packages: portalocker, iopath\n",
            "Successfully installed iopath-0.1.10 portalocker-3.1.1\n",
            "Looking in links: https://dl.fbaipublicfiles.com/pytorch3d/packaging/wheels/py310_cu121_pyt251/download.html\n",
            "Collecting pytorch3d\n",
            "  Downloading https://dl.fbaipublicfiles.com/pytorch3d/packaging/wheels/py310_cu121_pyt251/pytorch3d-0.7.8-cp310-cp310-linux_x86_64.whl (20.5 MB)\n",
            "\u001b[2K     \u001b[90m━━━━━━━━━━━━━━━━━━━━━━━━━━━━━━━━━━━━━━━━\u001b[0m \u001b[32m20.5/20.5 MB\u001b[0m \u001b[31m53.2 MB/s\u001b[0m eta \u001b[36m0:00:00\u001b[0m\n",
            "\u001b[?25hRequirement already satisfied: iopath in /usr/local/lib/python3.10/dist-packages (from pytorch3d) (0.1.10)\n",
            "Requirement already satisfied: tqdm in /usr/local/lib/python3.10/dist-packages (from iopath->pytorch3d) (4.67.1)\n",
            "Requirement already satisfied: typing-extensions in /usr/local/lib/python3.10/dist-packages (from iopath->pytorch3d) (4.12.2)\n",
            "Requirement already satisfied: portalocker in /usr/local/lib/python3.10/dist-packages (from iopath->pytorch3d) (3.1.1)\n",
            "Installing collected packages: pytorch3d\n",
            "Successfully installed pytorch3d-0.7.8\n",
            "Collecting yt-dlp\n",
            "  Downloading yt_dlp-2024.12.23-py3-none-any.whl.metadata (172 kB)\n",
            "\u001b[2K     \u001b[90m━━━━━━━━━━━━━━━━━━━━━━━━━━━━━━━━━━━━━━━━\u001b[0m \u001b[32m172.1/172.1 kB\u001b[0m \u001b[31m6.1 MB/s\u001b[0m eta \u001b[36m0:00:00\u001b[0m\n",
            "\u001b[?25hDownloading yt_dlp-2024.12.23-py3-none-any.whl (3.2 MB)\n",
            "\u001b[2K   \u001b[90m━━━━━━━━━━━━━━━━━━━━━━━━━━━━━━━━━━━━━━━━\u001b[0m \u001b[32m3.2/3.2 MB\u001b[0m \u001b[31m69.0 MB/s\u001b[0m eta \u001b[36m0:00:00\u001b[0m\n",
            "\u001b[?25hInstalling collected packages: yt-dlp\n",
            "Successfully installed yt-dlp-2024.12.23\n",
            "[youtube] Extracting URL: https://www.youtube.com/watch?v=2RicaUqd9Hg\n",
            "[youtube] 2RicaUqd9Hg: Downloading webpage\n",
            "[youtube] 2RicaUqd9Hg: Downloading ios player API JSON\n",
            "[youtube] 2RicaUqd9Hg: Downloading mweb player API JSON\n",
            "[youtube] 2RicaUqd9Hg: Downloading player 03dbdfab\n",
            "[youtube] 2RicaUqd9Hg: Downloading m3u8 information\n",
            "[info] 2RicaUqd9Hg: Downloading 1 format(s): 251\n",
            "[download] Destination: custom_music/2RicaUqd9Hg.webm\n",
            "\u001b[K[download] 100% of    2.47MiB in \u001b[1;37m00:00:00\u001b[0m at \u001b[0;32m6.00MiB/s\u001b[0m\n",
            "[ExtractAudio] Destination: custom_music/2RicaUqd9Hg.wav\n",
            "Deleting original file custom_music/2RicaUqd9Hg.webm (pass -k to keep)\n",
            "[youtube] Extracting URL: https://www.youtube.com/watch?v=-CCgDvUM4TM\n",
            "[youtube] -CCgDvUM4TM: Downloading webpage\n",
            "[youtube] -CCgDvUM4TM: Downloading ios player API JSON\n",
            "[youtube] -CCgDvUM4TM: Downloading mweb player API JSON\n",
            "[youtube] -CCgDvUM4TM: Downloading m3u8 information\n",
            "[info] -CCgDvUM4TM: Downloading 1 format(s): 251\n",
            "[download] Destination: custom_music/-CCgDvUM4TM.webm\n",
            "\u001b[K[download] 100% of    1.82MiB in \u001b[1;37m00:00:00\u001b[0m at \u001b[0;32m4.57MiB/s\u001b[0m\n",
            "[ExtractAudio] Destination: custom_music/-CCgDvUM4TM.wav\n",
            "Deleting original file custom_music/-CCgDvUM4TM.webm (pass -k to keep)\n",
            "Collecting git+https://github.com/rodrigo-castellon/jukemirlib.git\n",
            "  Cloning https://github.com/rodrigo-castellon/jukemirlib.git to /tmp/pip-req-build-eggqdo2g\n",
            "  Running command git clone --filter=blob:none --quiet https://github.com/rodrigo-castellon/jukemirlib.git /tmp/pip-req-build-eggqdo2g\n",
            "  Resolved https://github.com/rodrigo-castellon/jukemirlib.git to commit 98223a631f7327b4b45ed60f900e6a3a71130b25\n",
            "  Preparing metadata (setup.py) ... \u001b[?25l\u001b[?25hdone\n",
            "Collecting jukebox@ git+https://github.com/rodrigo-castellon/jukebox.git (from jukemirlib==0.0.0)\n",
            "  Cloning https://github.com/rodrigo-castellon/jukebox.git to /tmp/pip-install-wgasrd3s/jukebox_ccec5d35c9a2443ea0fd418c70416622\n",
            "  Running command git clone --filter=blob:none --quiet https://github.com/rodrigo-castellon/jukebox.git /tmp/pip-install-wgasrd3s/jukebox_ccec5d35c9a2443ea0fd418c70416622\n",
            "  Resolved https://github.com/rodrigo-castellon/jukebox.git to commit 6b4486164e150286d9d6944797a14b19f31912f0\n",
            "  Preparing metadata (setup.py) ... \u001b[?25l\u001b[?25hdone\n",
            "Collecting wget (from jukemirlib==0.0.0)\n",
            "  Downloading wget-3.2.zip (10 kB)\n",
            "  Preparing metadata (setup.py) ... \u001b[?25l\u001b[?25hdone\n",
            "Requirement already satisfied: accelerate in /usr/local/lib/python3.10/dist-packages (from jukemirlib==0.0.0) (1.2.1)\n",
            "Requirement already satisfied: numpy<3.0.0,>=1.17 in /usr/local/lib/python3.10/dist-packages (from accelerate->jukemirlib==0.0.0) (1.26.4)\n",
            "Requirement already satisfied: packaging>=20.0 in /usr/local/lib/python3.10/dist-packages (from accelerate->jukemirlib==0.0.0) (24.2)\n",
            "Requirement already satisfied: psutil in /usr/local/lib/python3.10/dist-packages (from accelerate->jukemirlib==0.0.0) (5.9.5)\n",
            "Requirement already satisfied: pyyaml in /usr/local/lib/python3.10/dist-packages (from accelerate->jukemirlib==0.0.0) (6.0.2)\n",
            "Requirement already satisfied: torch>=1.10.0 in /usr/local/lib/python3.10/dist-packages (from accelerate->jukemirlib==0.0.0) (2.5.1+cu121)\n",
            "Requirement already satisfied: huggingface-hub>=0.21.0 in /usr/local/lib/python3.10/dist-packages (from accelerate->jukemirlib==0.0.0) (0.27.0)\n",
            "Requirement already satisfied: safetensors>=0.4.3 in /usr/local/lib/python3.10/dist-packages (from accelerate->jukemirlib==0.0.0) (0.4.5)\n",
            "Collecting fire==0.1.3 (from jukebox@ git+https://github.com/rodrigo-castellon/jukebox.git->jukemirlib==0.0.0)\n",
            "  Downloading fire-0.1.3.tar.gz (33 kB)\n",
            "  Preparing metadata (setup.py) ... \u001b[?25l\u001b[?25hdone\n",
            "Collecting tqdm==4.45.0 (from jukebox@ git+https://github.com/rodrigo-castellon/jukebox.git->jukemirlib==0.0.0)\n",
            "  Downloading tqdm-4.45.0-py2.py3-none-any.whl.metadata (51 kB)\n",
            "\u001b[2K     \u001b[90m━━━━━━━━━━━━━━━━━━━━━━━━━━━━━━━━━━━━━━━━\u001b[0m \u001b[32m51.7/51.7 kB\u001b[0m \u001b[31m5.1 MB/s\u001b[0m eta \u001b[36m0:00:00\u001b[0m\n",
            "\u001b[?25hCollecting soundfile==0.10.3.post1 (from jukebox@ git+https://github.com/rodrigo-castellon/jukebox.git->jukemirlib==0.0.0)\n",
            "  Downloading SoundFile-0.10.3.post1-py2.py3-none-any.whl.metadata (11 kB)\n",
            "Collecting unidecode==1.1.1 (from jukebox@ git+https://github.com/rodrigo-castellon/jukebox.git->jukemirlib==0.0.0)\n",
            "  Downloading Unidecode-1.1.1-py2.py3-none-any.whl.metadata (10 kB)\n",
            "Requirement already satisfied: numba in /usr/local/lib/python3.10/dist-packages (from jukebox@ git+https://github.com/rodrigo-castellon/jukebox.git->jukemirlib==0.0.0) (0.60.0)\n",
            "Requirement already satisfied: librosa in /usr/local/lib/python3.10/dist-packages (from jukebox@ git+https://github.com/rodrigo-castellon/jukebox.git->jukemirlib==0.0.0) (0.10.2.post1)\n",
            "Requirement already satisfied: six in /usr/local/lib/python3.10/dist-packages (from fire==0.1.3->jukebox@ git+https://github.com/rodrigo-castellon/jukebox.git->jukemirlib==0.0.0) (1.17.0)\n",
            "Requirement already satisfied: cffi>=1.0 in /usr/local/lib/python3.10/dist-packages (from soundfile==0.10.3.post1->jukebox@ git+https://github.com/rodrigo-castellon/jukebox.git->jukemirlib==0.0.0) (1.17.1)\n",
            "Requirement already satisfied: filelock in /usr/local/lib/python3.10/dist-packages (from huggingface-hub>=0.21.0->accelerate->jukemirlib==0.0.0) (3.16.1)\n",
            "Requirement already satisfied: fsspec>=2023.5.0 in /usr/local/lib/python3.10/dist-packages (from huggingface-hub>=0.21.0->accelerate->jukemirlib==0.0.0) (2024.10.0)\n",
            "Requirement already satisfied: requests in /usr/local/lib/python3.10/dist-packages (from huggingface-hub>=0.21.0->accelerate->jukemirlib==0.0.0) (2.32.3)\n",
            "Requirement already satisfied: typing-extensions>=3.7.4.3 in /usr/local/lib/python3.10/dist-packages (from huggingface-hub>=0.21.0->accelerate->jukemirlib==0.0.0) (4.12.2)\n",
            "Requirement already satisfied: networkx in /usr/local/lib/python3.10/dist-packages (from torch>=1.10.0->accelerate->jukemirlib==0.0.0) (3.4.2)\n",
            "Requirement already satisfied: jinja2 in /usr/local/lib/python3.10/dist-packages (from torch>=1.10.0->accelerate->jukemirlib==0.0.0) (3.1.4)\n",
            "Requirement already satisfied: sympy==1.13.1 in /usr/local/lib/python3.10/dist-packages (from torch>=1.10.0->accelerate->jukemirlib==0.0.0) (1.13.1)\n",
            "Requirement already satisfied: mpmath<1.4,>=1.1.0 in /usr/local/lib/python3.10/dist-packages (from sympy==1.13.1->torch>=1.10.0->accelerate->jukemirlib==0.0.0) (1.3.0)\n",
            "Requirement already satisfied: audioread>=2.1.9 in /usr/local/lib/python3.10/dist-packages (from librosa->jukebox@ git+https://github.com/rodrigo-castellon/jukebox.git->jukemirlib==0.0.0) (3.0.1)\n",
            "Requirement already satisfied: scipy>=1.2.0 in /usr/local/lib/python3.10/dist-packages (from librosa->jukebox@ git+https://github.com/rodrigo-castellon/jukebox.git->jukemirlib==0.0.0) (1.13.1)\n",
            "Requirement already satisfied: scikit-learn>=0.20.0 in /usr/local/lib/python3.10/dist-packages (from librosa->jukebox@ git+https://github.com/rodrigo-castellon/jukebox.git->jukemirlib==0.0.0) (1.6.0)\n",
            "Requirement already satisfied: joblib>=0.14 in /usr/local/lib/python3.10/dist-packages (from librosa->jukebox@ git+https://github.com/rodrigo-castellon/jukebox.git->jukemirlib==0.0.0) (1.4.2)\n",
            "Requirement already satisfied: decorator>=4.3.0 in /usr/local/lib/python3.10/dist-packages (from librosa->jukebox@ git+https://github.com/rodrigo-castellon/jukebox.git->jukemirlib==0.0.0) (4.4.2)\n",
            "INFO: pip is looking at multiple versions of librosa to determine which version is compatible with other requirements. This could take a while.\n",
            "Collecting librosa (from jukebox@ git+https://github.com/rodrigo-castellon/jukebox.git->jukemirlib==0.0.0)\n",
            "  Downloading librosa-0.10.2-py3-none-any.whl.metadata (8.6 kB)\n",
            "  Downloading librosa-0.10.1-py3-none-any.whl.metadata (8.3 kB)\n",
            "  Downloading librosa-0.10.0.post2-py3-none-any.whl.metadata (8.3 kB)\n",
            "  Downloading librosa-0.10.0.post1-py3-none-any.whl.metadata (8.3 kB)\n",
            "  Downloading librosa-0.10.0-py3-none-any.whl.metadata (8.3 kB)\n",
            "  Downloading librosa-0.9.2-py3-none-any.whl.metadata (8.2 kB)\n",
            "Collecting resampy>=0.2.2 (from librosa->jukebox@ git+https://github.com/rodrigo-castellon/jukebox.git->jukemirlib==0.0.0)\n",
            "  Downloading resampy-0.4.3-py3-none-any.whl.metadata (3.0 kB)\n",
            "Requirement already satisfied: pooch>=1.0 in /usr/local/lib/python3.10/dist-packages (from librosa->jukebox@ git+https://github.com/rodrigo-castellon/jukebox.git->jukemirlib==0.0.0) (1.8.2)\n",
            "Requirement already satisfied: llvmlite<0.44,>=0.43.0dev0 in /usr/local/lib/python3.10/dist-packages (from numba->jukebox@ git+https://github.com/rodrigo-castellon/jukebox.git->jukemirlib==0.0.0) (0.43.0)\n",
            "Requirement already satisfied: pycparser in /usr/local/lib/python3.10/dist-packages (from cffi>=1.0->soundfile==0.10.3.post1->jukebox@ git+https://github.com/rodrigo-castellon/jukebox.git->jukemirlib==0.0.0) (2.22)\n",
            "Requirement already satisfied: platformdirs>=2.5.0 in /usr/local/lib/python3.10/dist-packages (from pooch>=1.0->librosa->jukebox@ git+https://github.com/rodrigo-castellon/jukebox.git->jukemirlib==0.0.0) (4.3.6)\n",
            "Requirement already satisfied: charset-normalizer<4,>=2 in /usr/local/lib/python3.10/dist-packages (from requests->huggingface-hub>=0.21.0->accelerate->jukemirlib==0.0.0) (3.4.0)\n",
            "Requirement already satisfied: idna<4,>=2.5 in /usr/local/lib/python3.10/dist-packages (from requests->huggingface-hub>=0.21.0->accelerate->jukemirlib==0.0.0) (3.10)\n",
            "Requirement already satisfied: urllib3<3,>=1.21.1 in /usr/local/lib/python3.10/dist-packages (from requests->huggingface-hub>=0.21.0->accelerate->jukemirlib==0.0.0) (2.2.3)\n",
            "Requirement already satisfied: certifi>=2017.4.17 in /usr/local/lib/python3.10/dist-packages (from requests->huggingface-hub>=0.21.0->accelerate->jukemirlib==0.0.0) (2024.12.14)\n",
            "Requirement already satisfied: threadpoolctl>=3.1.0 in /usr/local/lib/python3.10/dist-packages (from scikit-learn>=0.20.0->librosa->jukebox@ git+https://github.com/rodrigo-castellon/jukebox.git->jukemirlib==0.0.0) (3.5.0)\n",
            "Requirement already satisfied: MarkupSafe>=2.0 in /usr/local/lib/python3.10/dist-packages (from jinja2->torch>=1.10.0->accelerate->jukemirlib==0.0.0) (3.0.2)\n",
            "Downloading SoundFile-0.10.3.post1-py2.py3-none-any.whl (21 kB)\n",
            "Downloading tqdm-4.45.0-py2.py3-none-any.whl (60 kB)\n",
            "\u001b[2K   \u001b[90m━━━━━━━━━━━━━━━━━━━━━━━━━━━━━━━━━━━━━━━━\u001b[0m \u001b[32m60.9/60.9 kB\u001b[0m \u001b[31m5.8 MB/s\u001b[0m eta \u001b[36m0:00:00\u001b[0m\n",
            "\u001b[?25hDownloading Unidecode-1.1.1-py2.py3-none-any.whl (238 kB)\n",
            "\u001b[2K   \u001b[90m━━━━━━━━━━━━━━━━━━━━━━━━━━━━━━━━━━━━━━━━\u001b[0m \u001b[32m238.3/238.3 kB\u001b[0m \u001b[31m14.7 MB/s\u001b[0m eta \u001b[36m0:00:00\u001b[0m\n",
            "\u001b[?25hDownloading librosa-0.9.2-py3-none-any.whl (214 kB)\n",
            "\u001b[2K   \u001b[90m━━━━━━━━━━━━━━━━━━━━━━━━━━━━━━━━━━━━━━━━\u001b[0m \u001b[32m214.3/214.3 kB\u001b[0m \u001b[31m18.6 MB/s\u001b[0m eta \u001b[36m0:00:00\u001b[0m\n",
            "\u001b[?25hDownloading resampy-0.4.3-py3-none-any.whl (3.1 MB)\n",
            "\u001b[2K   \u001b[90m━━━━━━━━━━━━━━━━━━━━━━━━━━━━━━━━━━━━━━━━\u001b[0m \u001b[32m3.1/3.1 MB\u001b[0m \u001b[31m83.5 MB/s\u001b[0m eta \u001b[36m0:00:00\u001b[0m\n",
            "\u001b[?25hBuilding wheels for collected packages: jukemirlib, jukebox, fire, wget\n",
            "  Building wheel for jukemirlib (setup.py) ... \u001b[?25l\u001b[?25hdone\n",
            "  Created wheel for jukemirlib: filename=jukemirlib-0.0.0-py3-none-any.whl size=7674 sha256=38fcf62563864674d2857980f42777f3dff9655441a84077db565a178de62127\n",
            "  Stored in directory: /tmp/pip-ephem-wheel-cache-gpuim2nv/wheels/1d/a0/cd/3472d9e4b5c30191ff2d4ca9c3490e18be0818215a09b26987\n",
            "  Building wheel for jukebox (setup.py) ... \u001b[?25l\u001b[?25hdone\n",
            "  Created wheel for jukebox: filename=jukebox-1.0-py3-none-any.whl size=191626 sha256=eb3354c2d1529318816aef2ba7f8d3ec30b0223cec2347592713d9352f8c61d1\n",
            "  Stored in directory: /tmp/pip-ephem-wheel-cache-gpuim2nv/wheels/a4/c5/0e/c9481869401d9c73875970e2b1fedd1e160875d2e808d2e699\n",
            "  Building wheel for fire (setup.py) ... \u001b[?25l\u001b[?25hdone\n",
            "  Created wheel for fire: filename=fire-0.1.3-py2.py3-none-any.whl size=49701 sha256=8024e30ad107fc1458017956bb77b5ce2f75ca093ae1714c1627b07f2041c2e5\n",
            "  Stored in directory: /root/.cache/pip/wheels/c5/3c/2a/a61cca1e41b0311cf0339fac7677bbd01570864da177e509af\n",
            "  Building wheel for wget (setup.py) ... \u001b[?25l\u001b[?25hdone\n",
            "  Created wheel for wget: filename=wget-3.2-py3-none-any.whl size=9656 sha256=5046e1b9ea9364d666fc61807fe517963e44ddb0ff948bcdbbfe1da0a847ddc1\n",
            "  Stored in directory: /root/.cache/pip/wheels/8b/f1/7f/5c94f0a7a505ca1c81cd1d9208ae2064675d97582078e6c769\n",
            "Successfully built jukemirlib jukebox fire wget\n",
            "Installing collected packages: wget, unidecode, tqdm, fire, soundfile, resampy, librosa, jukebox, jukemirlib\n",
            "  Attempting uninstall: tqdm\n",
            "    Found existing installation: tqdm 4.67.1\n",
            "    Uninstalling tqdm-4.67.1:\n",
            "      Successfully uninstalled tqdm-4.67.1\n",
            "  Attempting uninstall: soundfile\n",
            "    Found existing installation: soundfile 0.12.1\n",
            "    Uninstalling soundfile-0.12.1:\n",
            "      Successfully uninstalled soundfile-0.12.1\n",
            "  Attempting uninstall: librosa\n",
            "    Found existing installation: librosa 0.10.2.post1\n",
            "    Uninstalling librosa-0.10.2.post1:\n",
            "      Successfully uninstalled librosa-0.10.2.post1\n",
            "\u001b[31mERROR: pip's dependency resolver does not currently take into account all the packages that are installed. This behaviour is the source of the following dependency conflicts.\n",
            "dopamine-rl 4.1.0 requires tqdm>=4.64.1, but you have tqdm 4.45.0 which is incompatible.\u001b[0m\u001b[31m\n",
            "\u001b[0mSuccessfully installed fire-0.1.3 jukebox-1.0 jukemirlib-0.0.0 librosa-0.9.2 resampy-0.4.3 soundfile-0.10.3.post1 tqdm-4.45.0 unidecode-1.1.1 wget-3.2\n"
          ]
        },
        {
          "output_type": "display_data",
          "data": {
            "application/vnd.colab-display-data+json": {
              "pip_warning": {
                "packages": [
                  "tqdm"
                ]
              },
              "id": "620f246db3aa4ea2adb0c7414cfdb66d"
            }
          },
          "metadata": {}
        }
      ]
    },
    {
      "cell_type": "code",
      "source": [
        "! pip install p_tqdm"
      ],
      "metadata": {
        "id": "re1S0-609HSX",
        "outputId": "46e6c6f6-42aa-4b68-b668-3d39a079bf2a",
        "colab": {
          "base_uri": "https://localhost:8080/"
        }
      },
      "id": "re1S0-609HSX",
      "execution_count": 10,
      "outputs": [
        {
          "output_type": "stream",
          "name": "stdout",
          "text": [
            "Collecting p_tqdm\n",
            "  Downloading p_tqdm-1.4.2.tar.gz (6.0 kB)\n",
            "  Preparing metadata (setup.py) ... \u001b[?25l\u001b[?25hdone\n",
            "Requirement already satisfied: tqdm>=4.45.0 in /usr/local/lib/python3.10/dist-packages (from p_tqdm) (4.45.0)\n",
            "Collecting pathos>=0.2.5 (from p_tqdm)\n",
            "  Downloading pathos-0.3.3-py3-none-any.whl.metadata (11 kB)\n",
            "Requirement already satisfied: six>=1.13.0 in /usr/local/lib/python3.10/dist-packages (from p_tqdm) (1.17.0)\n",
            "Collecting ppft>=1.7.6.9 (from pathos>=0.2.5->p_tqdm)\n",
            "  Downloading ppft-1.7.6.9-py3-none-any.whl.metadata (12 kB)\n",
            "Collecting dill>=0.3.9 (from pathos>=0.2.5->p_tqdm)\n",
            "  Downloading dill-0.3.9-py3-none-any.whl.metadata (10 kB)\n",
            "Collecting pox>=0.3.5 (from pathos>=0.2.5->p_tqdm)\n",
            "  Downloading pox-0.3.5-py3-none-any.whl.metadata (8.0 kB)\n",
            "Collecting multiprocess>=0.70.17 (from pathos>=0.2.5->p_tqdm)\n",
            "  Downloading multiprocess-0.70.17-py310-none-any.whl.metadata (7.2 kB)\n",
            "Downloading pathos-0.3.3-py3-none-any.whl (82 kB)\n",
            "\u001b[2K   \u001b[90m━━━━━━━━━━━━━━━━━━━━━━━━━━━━━━━━━━━━━━━━\u001b[0m \u001b[32m82.1/82.1 kB\u001b[0m \u001b[31m3.8 MB/s\u001b[0m eta \u001b[36m0:00:00\u001b[0m\n",
            "\u001b[?25hDownloading dill-0.3.9-py3-none-any.whl (119 kB)\n",
            "\u001b[2K   \u001b[90m━━━━━━━━━━━━━━━━━━━━━━━━━━━━━━━━━━━━━━━━\u001b[0m \u001b[32m119.4/119.4 kB\u001b[0m \u001b[31m8.9 MB/s\u001b[0m eta \u001b[36m0:00:00\u001b[0m\n",
            "\u001b[?25hDownloading multiprocess-0.70.17-py310-none-any.whl (134 kB)\n",
            "\u001b[2K   \u001b[90m━━━━━━━━━━━━━━━━━━━━━━━━━━━━━━━━━━━━━━━━\u001b[0m \u001b[32m134.8/134.8 kB\u001b[0m \u001b[31m14.7 MB/s\u001b[0m eta \u001b[36m0:00:00\u001b[0m\n",
            "\u001b[?25hDownloading pox-0.3.5-py3-none-any.whl (29 kB)\n",
            "Downloading ppft-1.7.6.9-py3-none-any.whl (56 kB)\n",
            "\u001b[2K   \u001b[90m━━━━━━━━━━━━━━━━━━━━━━━━━━━━━━━━━━━━━━━━\u001b[0m \u001b[32m56.8/56.8 kB\u001b[0m \u001b[31m5.2 MB/s\u001b[0m eta \u001b[36m0:00:00\u001b[0m\n",
            "\u001b[?25hBuilding wheels for collected packages: p_tqdm\n",
            "  Building wheel for p_tqdm (setup.py) ... \u001b[?25l\u001b[?25hdone\n",
            "  Created wheel for p_tqdm: filename=p_tqdm-1.4.2-py3-none-any.whl size=5400 sha256=2de56e6ef8fdb081984b0e0aa9bba611ef28d20e1514e2e8271779889da6768d\n",
            "  Stored in directory: /root/.cache/pip/wheels/5c/eb/46/364fe18b96fa8438176535990d8c8ac9ac87becde4cd340d3d\n",
            "Successfully built p_tqdm\n",
            "Installing collected packages: ppft, pox, dill, multiprocess, pathos, p_tqdm\n",
            "Successfully installed dill-0.3.9 multiprocess-0.70.17 p_tqdm-1.4.2 pathos-0.3.3 pox-0.3.5 ppft-1.7.6.9\n"
          ]
        }
      ]
    },
    {
      "cell_type": "code",
      "source": [
        "!bash download_model.sh"
      ],
      "metadata": {
        "id": "D6GRoZNO920R",
        "outputId": "b30d2e58-23d9-45b0-9bc2-92048e64e785",
        "colab": {
          "base_uri": "https://localhost:8080/"
        }
      },
      "id": "D6GRoZNO920R",
      "execution_count": 16,
      "outputs": [
        {
          "output_type": "stream",
          "name": "stdout",
          "text": [
            "--2025-01-08 13:20:41--  https://docs.google.com/uc?export=download&confirm=&id=1BAR712cVEqB8GR37fcEihRV_xOC-fZrZ\n",
            "Resolving docs.google.com (docs.google.com)... 142.250.101.113, 142.250.101.100, 142.250.101.102, ...\n",
            "Connecting to docs.google.com (docs.google.com)|142.250.101.113|:443... connected.\n",
            "HTTP request sent, awaiting response... 303 See Other\n",
            "Location: https://drive.usercontent.google.com/download?id=1BAR712cVEqB8GR37fcEihRV_xOC-fZrZ&export=download [following]\n",
            "--2025-01-08 13:20:41--  https://drive.usercontent.google.com/download?id=1BAR712cVEqB8GR37fcEihRV_xOC-fZrZ&export=download\n",
            "Resolving drive.usercontent.google.com (drive.usercontent.google.com)... 74.125.137.132, 2607:f8b0:4023:c03::84\n",
            "Connecting to drive.usercontent.google.com (drive.usercontent.google.com)|74.125.137.132|:443... connected.\n",
            "HTTP request sent, awaiting response... 200 OK\n",
            "Length: 2425 (2.4K) [text/html]\n",
            "Saving to: ‘checkpoint.pt’\n",
            "\n",
            "checkpoint.pt       100%[===================>]   2.37K  --.-KB/s    in 0s      \n",
            "\n",
            "2025-01-08 13:20:42 (42.5 MB/s) - ‘checkpoint.pt’ saved [2425/2425]\n",
            "\n"
          ]
        }
      ]
    },
    {
      "cell_type": "code",
      "source": [
        "!sudo apt-get install git-lfs"
      ],
      "metadata": {
        "id": "3xHLMprfEr-D",
        "outputId": "2331c59d-e7bf-4fbb-8b8f-8b68efbf8075",
        "colab": {
          "base_uri": "https://localhost:8080/"
        }
      },
      "id": "3xHLMprfEr-D",
      "execution_count": 15,
      "outputs": [
        {
          "output_type": "stream",
          "name": "stdout",
          "text": [
            "Reading package lists... Done\n",
            "Building dependency tree... Done\n",
            "Reading state information... Done\n",
            "git-lfs is already the newest version (3.0.2-1ubuntu0.3).\n",
            "0 upgraded, 0 newly installed, 0 to remove and 49 not upgraded.\n"
          ]
        }
      ]
    },
    {
      "cell_type": "code",
      "source": [
        "!pip install torch==1.12.1"
      ],
      "metadata": {
        "id": "IzhtwaehNUHI",
        "outputId": "9e3a80b8-404b-4fb6-b82e-1ff4ec9eaf98",
        "colab": {
          "base_uri": "https://localhost:8080/",
          "height": 394
        }
      },
      "id": "IzhtwaehNUHI",
      "execution_count": 24,
      "outputs": [
        {
          "output_type": "stream",
          "name": "stdout",
          "text": [
            "Collecting torch==1.12.1\n",
            "  Downloading torch-1.12.1-cp310-cp310-manylinux1_x86_64.whl.metadata (22 kB)\n",
            "Requirement already satisfied: typing-extensions in /usr/local/lib/python3.10/dist-packages (from torch==1.12.1) (4.12.2)\n",
            "Downloading torch-1.12.1-cp310-cp310-manylinux1_x86_64.whl (776.3 MB)\n",
            "\u001b[2K   \u001b[90m━━━━━━━━━━━━━━━━━━━━━━━━━━━━━━━━━━━━━━━━\u001b[0m \u001b[32m776.3/776.3 MB\u001b[0m \u001b[31m845.6 kB/s\u001b[0m eta \u001b[36m0:00:00\u001b[0m\n",
            "\u001b[?25hInstalling collected packages: torch\n",
            "  Attempting uninstall: torch\n",
            "    Found existing installation: torch 2.5.1+cu121\n",
            "    Uninstalling torch-2.5.1+cu121:\n",
            "      Successfully uninstalled torch-2.5.1+cu121\n",
            "\u001b[31mERROR: pip's dependency resolver does not currently take into account all the packages that are installed. This behaviour is the source of the following dependency conflicts.\n",
            "peft 0.14.0 requires torch>=1.13.0, but you have torch 1.12.1 which is incompatible.\n",
            "torchaudio 2.5.1+cu121 requires torch==2.5.1, but you have torch 1.12.1 which is incompatible.\n",
            "torchvision 0.20.1+cu121 requires torch==2.5.1, but you have torch 1.12.1 which is incompatible.\u001b[0m\u001b[31m\n",
            "\u001b[0mSuccessfully installed torch-1.12.1\n"
          ]
        },
        {
          "output_type": "display_data",
          "data": {
            "application/vnd.colab-display-data+json": {
              "pip_warning": {
                "packages": [
                  "torch",
                  "torchgen"
                ]
              },
              "id": "d544217b9b0f41ca90e814716f6e5be0"
            }
          },
          "metadata": {}
        }
      ]
    },
    {
      "cell_type": "markdown",
      "id": "53e9b986-a395-4af8-a47b-9d573962b5b1",
      "metadata": {
        "id": "53e9b986-a395-4af8-a47b-9d573962b5b1"
      },
      "source": [
        "## 2. Generate Dances\n",
        "After the music is downloaded, run the model on the music to process the music and generate dances. Stick figure videos will be saved to `output_folder` and pickle files of the motions will be saved to `motion_folder`"
      ]
    },
    {
      "cell_type": "code",
      "execution_count": 21,
      "id": "4ea03e78-722c-4e76-b8c4-e0789785248a",
      "metadata": {
        "colab": {
          "base_uri": "https://localhost:8080/"
        },
        "id": "4ea03e78-722c-4e76-b8c4-e0789785248a",
        "outputId": "07b55220-f591-4d18-a703-91eab25590ce"
      },
      "outputs": [
        {
          "output_type": "stream",
          "name": "stdout",
          "text": [
            "Computing features for input music\n",
            "Slicing custom_music/2RicaUqd9Hg.wav\n",
            "Computing features for custom_music/2RicaUqd9Hg.wav\n",
            "  0% 0/61 [00:00<?, ?it/s]Importing jukebox and associated packages...\n",
            "Setting up the VQ-VAE...\n",
            "Loading vqvae in eval mode\n",
            "Setting up the top prior...\n",
            " 46% 28/61 [00:37<00:43,  1.33s/it]\n",
            "Traceback (most recent call last):\n",
            "  File \"/content/EDGE/test.py\", line 128, in <module>\n",
            "    test(opt)\n",
            "  File \"/content/EDGE/test.py\", line 93, in test\n",
            "    reps, _ = feature_func(file)\n",
            "  File \"/content/EDGE/data/audio_extraction/jukebox_features.py\", line 22, in extract\n",
            "    reps = jukemirlib.extract(audio, layers=[LAYER], downsample_target_rate=FPS)\n",
            "  File \"/usr/local/lib/python3.10/dist-packages/torch/utils/_contextlib.py\", line 116, in decorate_context\n",
            "    return func(*args, **kwargs)\n",
            "  File \"/usr/local/lib/python3.10/dist-packages/jukemirlib/lib.py\", line 250, in extract\n",
            "    VQVAE, TOP_PRIOR = setup_models()\n",
            "  File \"/usr/local/lib/python3.10/dist-packages/jukemirlib/setup_models.py\", line 174, in setup_models\n",
            "    TOP_PRIOR = make_prior(hparams, VQVAE, \"meta\")\n",
            "  File \"/usr/local/lib/python3.10/dist-packages/jukebox/make_models.py\", line 184, in make_prior\n",
            "    prior = SimplePrior(z_shapes=z_shapes,\n",
            "  File \"/usr/local/lib/python3.10/dist-packages/jukebox/prior/prior.py\", line 122, in __init__\n",
            "    self.prior = ConditionalAutoregressive2D(x_cond=(self.x_cond or self.y_cond), y_cond=self.y_cond,\n",
            "  File \"/usr/local/lib/python3.10/dist-packages/jukebox/prior/autoregressive.py\", line 76, in __init__\n",
            "    self.transformer = Transformer(n_in=width, n_ctx=input_dims, n_head=heads, n_depth=depth,\n",
            "  File \"/usr/local/lib/python3.10/dist-packages/jukebox/transformer/transformer.py\", line 142, in __init__\n",
            "    self._attn_mods.append(attn_block(d))\n",
            "  File \"/usr/local/lib/python3.10/dist-packages/jukebox/transformer/transformer.py\", line 129, in <lambda>\n",
            "    attn_block = lambda d: ResAttnBlock(n_in=n_in, n_ctx=n_ctx, n_head=n_head,\n",
            "  File \"/usr/local/lib/python3.10/dist-packages/jukebox/transformer/transformer.py\", line 42, in __init__\n",
            "    self.attn = FactoredAttention(n_in=n_in, n_ctx=n_ctx, n_state=int(m_attn * n_in), n_head=n_head,\n",
            "  File \"/usr/local/lib/python3.10/dist-packages/jukebox/transformer/factored_attention.py\", line 50, in __init__\n",
            "    self.c_attn = Conv1D(n_in, n_state * 3, init_scale=init_scale)\n",
            "  File \"/usr/local/lib/python3.10/dist-packages/jukebox/transformer/ops.py\", line 92, in __init__\n",
            "    nn.init.normal_(w, std=0.02 * init_scale)\n",
            "  File \"/usr/local/lib/python3.10/dist-packages/torch/nn/init.py\", line 193, in normal_\n",
            "    return _no_grad_normal_(tensor, mean, std, generator)\n",
            "  File \"/usr/local/lib/python3.10/dist-packages/torch/nn/init.py\", line 22, in _no_grad_normal_\n",
            "    return tensor.normal_(mean, std, generator=generator)\n",
            "KeyboardInterrupt\n"
          ]
        }
      ],
      "source": [
        "# %cd /content/drive/MyDrive/EDGE\n",
        "# !pwd\n",
        "# !ls /content/drive/MyDrive/EDGE/\n",
        "!python test.py --music_dir \"{output_folder}\"/ --save_motions --motion_save_dir \"{motion_folder}\""
      ]
    },
    {
      "cell_type": "code",
      "source": [],
      "metadata": {
        "id": "XmA-P4sTGMi2"
      },
      "id": "XmA-P4sTGMi2",
      "execution_count": null,
      "outputs": []
    },
    {
      "cell_type": "markdown",
      "id": "94972628-44d8-4c71-a681-8025fdb0b630",
      "metadata": {
        "id": "94972628-44d8-4c71-a681-8025fdb0b630"
      },
      "source": [
        "## 3. (Optional) Generate 3D renders with Blender\n",
        "Turn the stick figure videos into 3D motions by converting the pickle files into FBX files, which can be imported into Blender. The FBX files will be outputted to `fbx_folder`."
      ]
    },
    {
      "cell_type": "code",
      "execution_count": null,
      "id": "7e7de01d-07e9-45d5-9574-ae095a9d1275",
      "metadata": {
        "id": "7e7de01d-07e9-45d5-9574-ae095a9d1275"
      },
      "outputs": [],
      "source": [
        "!python SMPL-to-FBX/Convert.py --input_dir \"{motion_folder}\" --output_dir \"{fbx_folder}\""
      ]
    }
  ],
  "metadata": {
    "kernelspec": {
      "display_name": "Python 3",
      "name": "python3"
    },
    "language_info": {
      "codemirror_mode": {
        "name": "ipython",
        "version": 3
      },
      "file_extension": ".py",
      "mimetype": "text/x-python",
      "name": "python",
      "nbconvert_exporter": "python",
      "pygments_lexer": "ipython3",
      "version": "3.7.12"
    },
    "colab": {
      "provenance": [],
      "gpuType": "T4"
    },
    "accelerator": "GPU"
  },
  "nbformat": 4,
  "nbformat_minor": 5
}